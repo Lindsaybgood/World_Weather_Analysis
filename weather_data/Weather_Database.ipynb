{
 "cells": [
  {
   "cell_type": "code",
   "execution_count": 151,
   "id": "0368d0f6",
   "metadata": {},
   "outputs": [],
   "source": [
    "# Import the dependencies.\n",
    "import pandas as pd\n",
    "import numpy as np\n",
    "# Import the requests library.\n",
    "import requests\n",
    "# Import the datetime module from the datetime library.\n",
    "from datetime import datetime\n"
   ]
  },
  {
   "cell_type": "code",
   "execution_count": 152,
   "id": "f2f10a59",
   "metadata": {},
   "outputs": [
    {
     "data": {
      "text/plain": [
       "<zip at 0x26451ba12c8>"
      ]
     },
     "execution_count": 152,
     "metadata": {},
     "output_type": "execute_result"
    }
   ],
   "source": [
    "# Create a set of random latitude and longitude combinations.\n",
    "lat = np.random.uniform(low=-90.000, high=90.000, size=20)\n",
    "lon = np.random.uniform(low=-180.000, high=180.000, size=20)\n",
    "lat_lon = zip(lat, lon)\n",
    "lat_lon"
   ]
  },
  {
   "cell_type": "code",
   "execution_count": 153,
   "id": "7768f568",
   "metadata": {},
   "outputs": [
    {
     "data": {
      "text/plain": [
       "[(-14.759673023802293, 80.65392138226059),\n",
       " (32.01313177627435, -26.97634079682456),\n",
       " (34.814820746083996, 132.8922610061171),\n",
       " (12.23822836602531, 127.08148101768518),\n",
       " (42.18745663258386, 170.31806768152444),\n",
       " (0.757498389794975, 54.14477604469087),\n",
       " (-50.582908045721794, 156.7662896328432),\n",
       " (61.124631487069365, -93.45302215664616),\n",
       " (-3.5004499922008137, -10.622403822278727),\n",
       " (63.932721393931104, -138.45857069054222),\n",
       " (-45.599926485714676, -1.5385739579825497),\n",
       " (-86.44947680384648, 97.08837523411768),\n",
       " (-42.282160370295024, -133.53394679961207),\n",
       " (-38.15742288608253, 61.05116390143115),\n",
       " (65.96457820094102, 120.23423555700691),\n",
       " (85.90031225829847, -5.214085962554293),\n",
       " (56.2570386984504, 105.16219910507317),\n",
       " (-50.013474495658635, -69.44828468678024),\n",
       " (-9.835858566120208, -117.07295989289366),\n",
       " (20.16382533007456, -77.13976882161904)]"
      ]
     },
     "execution_count": 153,
     "metadata": {},
     "output_type": "execute_result"
    }
   ],
   "source": [
    "# Add the latitudes and longitudes to a list.\n",
    "coordinates = list(lat_lon)\n",
    "coordinates"
   ]
  },
  {
   "cell_type": "code",
   "execution_count": 154,
   "id": "f6f855ed",
   "metadata": {},
   "outputs": [],
   "source": [
    "from citipy import citipy\n",
    "from config import weather_api_key"
   ]
  },
  {
   "cell_type": "code",
   "execution_count": 155,
   "id": "527f2640",
   "metadata": {},
   "outputs": [],
   "source": [
    "# Starting URL for Weather Map API Call.\n",
    "url = \"http://api.openweathermap.org/data/2.5/weather?lat={lat}&lon={lon}&appid=\" + weather_api_key\n",
    "\n",
    "\n"
   ]
  },
  {
   "cell_type": "code",
   "execution_count": 156,
   "id": "fa56546b",
   "metadata": {},
   "outputs": [
    {
     "data": {
      "text/plain": [
       "{'cod': '400', 'message': 'wrong latitude'}"
      ]
     },
     "execution_count": 156,
     "metadata": {},
     "output_type": "execute_result"
    }
   ],
   "source": [
    "city_weather = requests.get(url)\n",
    "\n",
    "city_weather.json()"
   ]
  },
  {
   "cell_type": "code",
   "execution_count": 157,
   "id": "8a5713e6",
   "metadata": {},
   "outputs": [
    {
     "data": {
      "text/plain": [
       "20"
      ]
     },
     "execution_count": 157,
     "metadata": {},
     "output_type": "execute_result"
    }
   ],
   "source": [
    "# Create a list for holding the cities.\n",
    "cities = []\n",
    "# Identify the nearest city for each latitude and longitude combination.\n",
    "for coordinate in coordinates:\n",
    "    city = citipy.nearest_city(coordinate[0], coordinate[1]).city_name\n",
    "\n",
    "    # If the city is unique, then we will add it to the cities list.\n",
    "    if city not in cities:\n",
    "        cities.append(city)\n",
    "# Print the city count to confirm sufficient count.\n",
    "len(cities)"
   ]
  },
  {
   "cell_type": "code",
   "execution_count": 158,
   "id": "c14708f5",
   "metadata": {},
   "outputs": [
    {
     "name": "stdout",
     "output_type": "stream",
     "text": [
      "hithadhoo mv\n",
      "ponta delgada pt\n",
      "miyoshi jp\n",
      "san policarpo ph\n",
      "nikolskoye ru\n",
      "victoria sc\n",
      "tuatapere nz\n",
      "thompson ca\n",
      "georgetown sh\n",
      "mayo ca\n",
      "cape town za\n",
      "albany au\n",
      "rikitea pf\n",
      "saint-philippe re\n",
      "verkhnevilyuysk ru\n",
      "barentsburg sj\n",
      "yantal ru\n",
      "rio gallegos ar\n",
      "atuona pf\n",
      "campechuela cu\n"
     ]
    }
   ],
   "source": [
    "for coordinate in coordinates:\n",
    "    print(citipy.nearest_city(coordinate[0], coordinate[1]).city_name,\n",
    "          citipy.nearest_city(coordinate[0], coordinate[1]).country_code)"
   ]
  },
  {
   "cell_type": "code",
   "execution_count": 159,
   "id": "7d2ec4a4",
   "metadata": {},
   "outputs": [],
   "source": [
    "# Create an empty list to hold the weather data.\n",
    "city_info = []\n",
    "\n",
    "# Create counters.\n",
    "record_count = 1\n",
    "set_count = 1"
   ]
  },
  {
   "cell_type": "code",
   "execution_count": 160,
   "id": "e536d411",
   "metadata": {},
   "outputs": [
    {
     "name": "stdout",
     "output_type": "stream",
     "text": [
      "Processing Record 1 of Set 1 | hithadhoo\n",
      "Processing Record 2 of Set 1 | ponta delgada\n",
      "Processing Record 3 of Set 1 | miyoshi\n",
      "Processing Record 4 of Set 1 | san policarpo\n",
      "Processing Record 5 of Set 1 | nikolskoye\n",
      "Processing Record 6 of Set 1 | victoria\n",
      "Processing Record 7 of Set 1 | tuatapere\n",
      "Processing Record 8 of Set 1 | thompson\n",
      "Processing Record 9 of Set 1 | georgetown\n",
      "Processing Record 10 of Set 1 | mayo\n",
      "Processing Record 11 of Set 1 | cape town\n",
      "Processing Record 12 of Set 1 | albany\n",
      "Processing Record 13 of Set 1 | rikitea\n",
      "Processing Record 14 of Set 1 | saint-philippe\n",
      "Processing Record 15 of Set 1 | verkhnevilyuysk\n",
      "Processing Record 16 of Set 1 | barentsburg\n",
      "Processing Record 17 of Set 1 | yantal\n",
      "Processing Record 18 of Set 1 | rio gallegos\n",
      "Processing Record 19 of Set 1 | atuona\n",
      "Processing Record 20 of Set 1 | campechuela\n",
      "-----------------------------\n",
      "Data Retrieval Complete      \n",
      "-----------------------------\n"
     ]
    }
   ],
   "source": [
    "   # Loop through all the cities in our list.\n",
    "for i in range(len(cities)):\n",
    "\n",
    "    # Group cities in sets of 50 for logging purposes.\n",
    "    if (i % 50 == 0 and i >= 50):\n",
    "        set_count += 1\n",
    "        record_count = 1\n",
    "    # Create endpoint URL with each city.\n",
    "    url = url + \"&q=\" + cities[i]\n",
    "    \n",
    "    # Loop through all the cities in the list.\n",
    "for i, city in enumerate(cities):\n",
    "\n",
    "    # Group cities in sets of 50 for logging purposes.\n",
    "    if (i % 50 == 0 and i >= 50):\n",
    "        set_count += 1\n",
    "        record_count = 1\n",
    "    # Create endpoint URL with each city.\n",
    "    url = url + \"&q=\" + city.replace(\" \",\"+\")\n",
    "    \n",
    "     # Log the URL, record, and set numbers and the city.\n",
    "    print(f\"Processing Record {record_count} of Set {set_count} | {city}\")\n",
    "    # Add 1 to the record count.\n",
    "    record_count += 1\n",
    "    \n",
    "     # Run an API request for each of the cities.\n",
    " #   try:\n",
    "        # Parse the JSON and retrieve data.\n",
    "    city_weather = requests.get(url).json()\n",
    "        \n",
    "        # Parse out the needed data.\n",
    "    city_lat = city_weather[\"coord\"][\"lat\"]\n",
    "    city_lng = city_weather[\"coord\"][\"lon\"]\n",
    "    city_max_temp = city_weather[\"main\"][\"temp_max\"]\n",
    "    city_humidity = city_weather[\"main\"][\"humidity\"]\n",
    "    city_clouds = city_weather[\"clouds\"][\"all\"]\n",
    "    city_wind = city_weather[\"wind\"][\"speed\"]\n",
    "    city_country = city_weather[\"sys\"][\"country\"]\n",
    "    city_wdescription = city_weather[\"weather\"][0][\"description\"]\n",
    "        # Convert the date to ISO standard.\n",
    "    city_date = datetime.utcfromtimestamp(city_weather[\"dt\"]).strftime('%Y-%m-%d %H:%M:%S')        \n",
    "       \n",
    "    # Append the city information into city_data list.\n",
    "    city_info.append({\"City\": city.title(),\n",
    "                      \"Country\": city_country,\n",
    "                      \"Lat\": city_lat,\n",
    "                      \"Lng\": city_lng,\n",
    "                      \"Max Temp\": city_max_temp,\n",
    "                      \"Humidity\": city_humidity,\n",
    "                      \"Cloudiness\": city_clouds,\n",
    "                      \"Wind Speed\": city_wind,\n",
    "                      \"Country\": city_country,\n",
    "                      \"Weather\": city_wdescription})\n",
    "\n",
    "# If an error is experienced, skip the city.\n",
    "#    except:\n",
    "#        print(\"City not found. Skipping...\")\n",
    "#        pass\n",
    "\n",
    "# Indicate that Data Loading is complete.\n",
    "print(\"-----------------------------\")\n",
    "print(\"Data Retrieval Complete      \")\n",
    "print(\"-----------------------------\")\n"
   ]
  },
  {
   "cell_type": "code",
   "execution_count": 162,
   "id": "5d075b5a",
   "metadata": {},
   "outputs": [
    {
     "data": {
      "text/plain": [
       "{'cod': '400', 'message': 'wrong latitude'}"
      ]
     },
     "execution_count": 162,
     "metadata": {},
     "output_type": "execute_result"
    }
   ],
   "source": [
    "city_weather = requests.get(city_url).json()\n",
    "city_weather  "
   ]
  },
  {
   "cell_type": "code",
   "execution_count": 161,
   "id": "0d67b0e6",
   "metadata": {},
   "outputs": [
    {
     "data": {
      "text/html": [
       "<div>\n",
       "<style scoped>\n",
       "    .dataframe tbody tr th:only-of-type {\n",
       "        vertical-align: middle;\n",
       "    }\n",
       "\n",
       "    .dataframe tbody tr th {\n",
       "        vertical-align: top;\n",
       "    }\n",
       "\n",
       "    .dataframe thead th {\n",
       "        text-align: right;\n",
       "    }\n",
       "</style>\n",
       "<table border=\"1\" class=\"dataframe\">\n",
       "  <thead>\n",
       "    <tr style=\"text-align: right;\">\n",
       "      <th></th>\n",
       "      <th>City</th>\n",
       "      <th>Country</th>\n",
       "      <th>Lat</th>\n",
       "      <th>Lng</th>\n",
       "      <th>Max Temp</th>\n",
       "      <th>Humidity</th>\n",
       "      <th>Cloudiness</th>\n",
       "      <th>Wind Speed</th>\n",
       "      <th>Weather</th>\n",
       "    </tr>\n",
       "  </thead>\n",
       "  <tbody>\n",
       "    <tr>\n",
       "      <th>0</th>\n",
       "      <td>Hithadhoo</td>\n",
       "      <td>MV</td>\n",
       "      <td>-0.6</td>\n",
       "      <td>73.0833</td>\n",
       "      <td>300.37</td>\n",
       "      <td>72</td>\n",
       "      <td>67</td>\n",
       "      <td>1.34</td>\n",
       "      <td>broken clouds</td>\n",
       "    </tr>\n",
       "    <tr>\n",
       "      <th>1</th>\n",
       "      <td>Ponta Delgada</td>\n",
       "      <td>MV</td>\n",
       "      <td>-0.6</td>\n",
       "      <td>73.0833</td>\n",
       "      <td>300.37</td>\n",
       "      <td>72</td>\n",
       "      <td>67</td>\n",
       "      <td>1.34</td>\n",
       "      <td>broken clouds</td>\n",
       "    </tr>\n",
       "    <tr>\n",
       "      <th>2</th>\n",
       "      <td>Miyoshi</td>\n",
       "      <td>MV</td>\n",
       "      <td>-0.6</td>\n",
       "      <td>73.0833</td>\n",
       "      <td>300.37</td>\n",
       "      <td>72</td>\n",
       "      <td>67</td>\n",
       "      <td>1.34</td>\n",
       "      <td>broken clouds</td>\n",
       "    </tr>\n",
       "    <tr>\n",
       "      <th>3</th>\n",
       "      <td>San Policarpo</td>\n",
       "      <td>MV</td>\n",
       "      <td>-0.6</td>\n",
       "      <td>73.0833</td>\n",
       "      <td>300.37</td>\n",
       "      <td>72</td>\n",
       "      <td>67</td>\n",
       "      <td>1.34</td>\n",
       "      <td>broken clouds</td>\n",
       "    </tr>\n",
       "    <tr>\n",
       "      <th>4</th>\n",
       "      <td>Nikolskoye</td>\n",
       "      <td>MV</td>\n",
       "      <td>-0.6</td>\n",
       "      <td>73.0833</td>\n",
       "      <td>300.37</td>\n",
       "      <td>72</td>\n",
       "      <td>67</td>\n",
       "      <td>1.34</td>\n",
       "      <td>broken clouds</td>\n",
       "    </tr>\n",
       "  </tbody>\n",
       "</table>\n",
       "</div>"
      ],
      "text/plain": [
       "            City Country  Lat      Lng  Max Temp  Humidity  Cloudiness  \\\n",
       "0      Hithadhoo      MV -0.6  73.0833    300.37        72          67   \n",
       "1  Ponta Delgada      MV -0.6  73.0833    300.37        72          67   \n",
       "2        Miyoshi      MV -0.6  73.0833    300.37        72          67   \n",
       "3  San Policarpo      MV -0.6  73.0833    300.37        72          67   \n",
       "4     Nikolskoye      MV -0.6  73.0833    300.37        72          67   \n",
       "\n",
       "   Wind Speed        Weather  \n",
       "0        1.34  broken clouds  \n",
       "1        1.34  broken clouds  \n",
       "2        1.34  broken clouds  \n",
       "3        1.34  broken clouds  \n",
       "4        1.34  broken clouds  "
      ]
     },
     "execution_count": 161,
     "metadata": {},
     "output_type": "execute_result"
    }
   ],
   "source": [
    "# Convert the array of dictionaries to a Pandas DataFrame.\n",
    "city_data_df = pd.DataFrame(city_info)\n",
    "city_data_df.head()"
   ]
  },
  {
   "cell_type": "code",
   "execution_count": 58,
   "id": "6fd9ecb3",
   "metadata": {},
   "outputs": [
    {
     "data": {
      "text/html": [
       "<div>\n",
       "<style scoped>\n",
       "    .dataframe tbody tr th:only-of-type {\n",
       "        vertical-align: middle;\n",
       "    }\n",
       "\n",
       "    .dataframe tbody tr th {\n",
       "        vertical-align: top;\n",
       "    }\n",
       "\n",
       "    .dataframe thead th {\n",
       "        text-align: right;\n",
       "    }\n",
       "</style>\n",
       "<table border=\"1\" class=\"dataframe\">\n",
       "  <thead>\n",
       "    <tr style=\"text-align: right;\">\n",
       "      <th></th>\n",
       "      <th>City</th>\n",
       "      <th>Lat</th>\n",
       "      <th>Lng</th>\n",
       "      <th>Max Temp</th>\n",
       "      <th>Humidity</th>\n",
       "      <th>Cloudiness</th>\n",
       "      <th>Wind Speed</th>\n",
       "      <th>Country</th>\n",
       "      <th>Weather</th>\n",
       "    </tr>\n",
       "  </thead>\n",
       "  <tbody>\n",
       "    <tr>\n",
       "      <th>0</th>\n",
       "      <td>Punta Arenas</td>\n",
       "      <td>-53.1500</td>\n",
       "      <td>-70.9167</td>\n",
       "      <td>279.21</td>\n",
       "      <td>56</td>\n",
       "      <td>0</td>\n",
       "      <td>6.17</td>\n",
       "      <td>CL</td>\n",
       "      <td>clear sky</td>\n",
       "    </tr>\n",
       "    <tr>\n",
       "      <th>1</th>\n",
       "      <td>Rikitea</td>\n",
       "      <td>-23.1203</td>\n",
       "      <td>-134.9692</td>\n",
       "      <td>294.61</td>\n",
       "      <td>70</td>\n",
       "      <td>41</td>\n",
       "      <td>4.53</td>\n",
       "      <td>PF</td>\n",
       "      <td>scattered clouds</td>\n",
       "    </tr>\n",
       "    <tr>\n",
       "      <th>2</th>\n",
       "      <td>Ribeira Grande</td>\n",
       "      <td>38.5167</td>\n",
       "      <td>-28.7000</td>\n",
       "      <td>298.37</td>\n",
       "      <td>69</td>\n",
       "      <td>20</td>\n",
       "      <td>5.14</td>\n",
       "      <td>PT</td>\n",
       "      <td>few clouds</td>\n",
       "    </tr>\n",
       "    <tr>\n",
       "      <th>3</th>\n",
       "      <td>Teguldet</td>\n",
       "      <td>57.3064</td>\n",
       "      <td>88.1667</td>\n",
       "      <td>287.16</td>\n",
       "      <td>74</td>\n",
       "      <td>54</td>\n",
       "      <td>2.37</td>\n",
       "      <td>RU</td>\n",
       "      <td>broken clouds</td>\n",
       "    </tr>\n",
       "    <tr>\n",
       "      <th>4</th>\n",
       "      <td>Verkhovazhye</td>\n",
       "      <td>60.7472</td>\n",
       "      <td>42.0465</td>\n",
       "      <td>287.16</td>\n",
       "      <td>95</td>\n",
       "      <td>88</td>\n",
       "      <td>3.28</td>\n",
       "      <td>RU</td>\n",
       "      <td>overcast clouds</td>\n",
       "    </tr>\n",
       "  </tbody>\n",
       "</table>\n",
       "</div>"
      ],
      "text/plain": [
       "             City      Lat       Lng  Max Temp  Humidity  Cloudiness  \\\n",
       "0    Punta Arenas -53.1500  -70.9167    279.21        56           0   \n",
       "1         Rikitea -23.1203 -134.9692    294.61        70          41   \n",
       "2  Ribeira Grande  38.5167  -28.7000    298.37        69          20   \n",
       "3        Teguldet  57.3064   88.1667    287.16        74          54   \n",
       "4    Verkhovazhye  60.7472   42.0465    287.16        95          88   \n",
       "\n",
       "   Wind Speed Country           Weather  \n",
       "0        6.17      CL         clear sky  \n",
       "1        4.53      PF  scattered clouds  \n",
       "2        5.14      PT        few clouds  \n",
       "3        2.37      RU     broken clouds  \n",
       "4        3.28      RU   overcast clouds  "
      ]
     },
     "execution_count": 58,
     "metadata": {},
     "output_type": "execute_result"
    }
   ],
   "source": [
    "# Convert the array of dictionaries to a Pandas DataFrame.\n",
    "city_data_df = pd.DataFrame(city_info)\n",
    "city_data_df.head()"
   ]
  },
  {
   "cell_type": "code",
   "execution_count": null,
   "id": "e31c31d1",
   "metadata": {},
   "outputs": [],
   "source": []
  },
  {
   "cell_type": "code",
   "execution_count": null,
   "id": "7962b327",
   "metadata": {},
   "outputs": [],
   "source": []
  }
 ],
 "metadata": {
  "kernelspec": {
   "display_name": "Python 3",
   "language": "python",
   "name": "python3"
  },
  "language_info": {
   "codemirror_mode": {
    "name": "ipython",
    "version": 3
   },
   "file_extension": ".py",
   "mimetype": "text/x-python",
   "name": "python",
   "nbconvert_exporter": "python",
   "pygments_lexer": "ipython3",
   "version": "3.7.10"
  }
 },
 "nbformat": 4,
 "nbformat_minor": 5
}

